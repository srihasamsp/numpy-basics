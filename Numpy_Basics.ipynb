{
  "nbformat": 4,
  "nbformat_minor": 0,
  "metadata": {
    "colab": {
      "provenance": []
    },
    "kernelspec": {
      "name": "python3",
      "display_name": "Python 3"
    },
    "language_info": {
      "name": "python"
    }
  },
  "cells": [
    {
      "cell_type": "markdown",
      "source": [],
      "metadata": {
        "id": "IMMY2p-s7yhE"
      }
    },
    {
      "cell_type": "markdown",
      "source": [
        "# **Numpy Basics**"
      ],
      "metadata": {
        "id": "VdhW7nF071Ie"
      }
    },
    {
      "cell_type": "code",
      "source": [
        "# import Numpy library and create an array\n",
        "import numpy as np\n",
        "# 0D Array\n",
        "n = np.array(42)\n",
        "n"
      ],
      "metadata": {
        "colab": {
          "base_uri": "https://localhost:8080/"
        },
        "id": "Fro3an--IWF0",
        "outputId": "e5098e93-6332-4bfb-9606-593810b3df1e"
      },
      "execution_count": 16,
      "outputs": [
        {
          "output_type": "execute_result",
          "data": {
            "text/plain": [
              "array(42)"
            ]
          },
          "metadata": {},
          "execution_count": 16
        }
      ]
    },
    {
      "cell_type": "code",
      "execution_count": 17,
      "metadata": {
        "colab": {
          "base_uri": "https://localhost:8080/"
        },
        "id": "wiS6Q4Ck7wVc",
        "outputId": "2cd7036b-4622-4a89-e77f-16d5851b271f"
      },
      "outputs": [
        {
          "output_type": "execute_result",
          "data": {
            "text/plain": [
              "array([1, 2, 3, 4, 5])"
            ]
          },
          "metadata": {},
          "execution_count": 17
        }
      ],
      "source": [
        "# 1D Array\n",
        "arr = np.array([1,2,3,4,5])\n",
        "\n",
        "arr"
      ]
    },
    {
      "cell_type": "code",
      "source": [
        "# 2D Array\n",
        "twod_arr = np.array([[1,2,3],[4,5,6]])\n",
        "twod_arr"
      ],
      "metadata": {
        "colab": {
          "base_uri": "https://localhost:8080/"
        },
        "id": "DbW4c5odHccG",
        "outputId": "d4bb7409-0dba-453f-eb7e-49944e51722f"
      },
      "execution_count": 18,
      "outputs": [
        {
          "output_type": "execute_result",
          "data": {
            "text/plain": [
              "array([[1, 2, 3],\n",
              "       [4, 5, 6]])"
            ]
          },
          "metadata": {},
          "execution_count": 18
        }
      ]
    },
    {
      "cell_type": "code",
      "source": [
        "# 3D Array\n",
        "threed_arr = np.array([[[1,2],[3,4]],[[5,6],[7,8]]])\n",
        "threed_arr"
      ],
      "metadata": {
        "colab": {
          "base_uri": "https://localhost:8080/"
        },
        "id": "VQbPfcBXHy5x",
        "outputId": "a48c83b0-aa38-4d17-e429-5743f3741564"
      },
      "execution_count": 19,
      "outputs": [
        {
          "output_type": "execute_result",
          "data": {
            "text/plain": [
              "array([[[1, 2],\n",
              "        [3, 4]],\n",
              "\n",
              "       [[5, 6],\n",
              "        [7, 8]]])"
            ]
          },
          "metadata": {},
          "execution_count": 19
        }
      ]
    },
    {
      "cell_type": "code",
      "source": [
        "# Printing dimensions of the previously created arrays\n",
        "\n",
        "print(n.ndim)\n",
        "print(arr.ndim)\n",
        "print(twod_arr.ndim)\n",
        "print(threed_arr.ndim)"
      ],
      "metadata": {
        "colab": {
          "base_uri": "https://localhost:8080/"
        },
        "id": "yWRuousmIGcY",
        "outputId": "e94c36ce-2f15-4e91-fe0a-d5277b7a5a1c"
      },
      "execution_count": 20,
      "outputs": [
        {
          "output_type": "stream",
          "name": "stdout",
          "text": [
            "0\n",
            "1\n",
            "2\n",
            "3\n"
          ]
        }
      ]
    },
    {
      "cell_type": "code",
      "source": [
        "# Creating higher dimensional arrays\n",
        "multi_arr = np.array([1,2,3,4,5], ndmin=5)\n",
        "\n",
        "print(multi_arr)\n",
        "\n",
        "print(multi_arr.ndim)\n"
      ],
      "metadata": {
        "colab": {
          "base_uri": "https://localhost:8080/"
        },
        "id": "ggwwwcP7IQzb",
        "outputId": "0bd2d9fb-3caf-4a85-b827-ff8456cb2366"
      },
      "execution_count": 21,
      "outputs": [
        {
          "output_type": "stream",
          "name": "stdout",
          "text": [
            "[[[[[1 2 3 4 5]]]]]\n",
            "5\n"
          ]
        }
      ]
    },
    {
      "cell_type": "markdown",
      "source": [
        "# **Accessing Array Elements**"
      ],
      "metadata": {
        "id": "WgC2vZgDJXZ8"
      }
    },
    {
      "cell_type": "code",
      "source": [
        "# Accessing first element of the array\n",
        "\n",
        "arr = np.array([1,2,3,4,5])\n",
        "print(arr[0])"
      ],
      "metadata": {
        "colab": {
          "base_uri": "https://localhost:8080/"
        },
        "id": "DvselTXXJPl1",
        "outputId": "8665ceae-05aa-4a01-c979-e2755c677037"
      },
      "execution_count": 22,
      "outputs": [
        {
          "output_type": "stream",
          "name": "stdout",
          "text": [
            "1\n"
          ]
        }
      ]
    },
    {
      "cell_type": "code",
      "source": [
        "# Accessing 3rd element of the array\n",
        "\n",
        "print(arr[2])"
      ],
      "metadata": {
        "colab": {
          "base_uri": "https://localhost:8080/"
        },
        "id": "jlYABUi9JnHY",
        "outputId": "8f585d2b-a8c1-4f5a-dbb1-365a384a8553"
      },
      "execution_count": 23,
      "outputs": [
        {
          "output_type": "stream",
          "name": "stdout",
          "text": [
            "3\n"
          ]
        }
      ]
    },
    {
      "cell_type": "code",
      "source": [
        "# Accessing an element of 2D array\n",
        "\n",
        "arr = np.array([[1,2,3],[4,5,6]])\n",
        "print(arr[0,1])\n",
        "print(arr[1,1])"
      ],
      "metadata": {
        "colab": {
          "base_uri": "https://localhost:8080/"
        },
        "id": "K2eCr0-XeJNh",
        "outputId": "1d082c03-b74b-4ef9-f2a2-12d4bd8f5ceb"
      },
      "execution_count": 25,
      "outputs": [
        {
          "output_type": "stream",
          "name": "stdout",
          "text": [
            "2\n",
            "5\n"
          ]
        }
      ]
    },
    {
      "cell_type": "code",
      "source": [
        "# Accessing an element of 3D array\n",
        "\n",
        "arr = np.array([[[1,2,3],[4,5,6]],[[7,8,9],[10,11,12]]])\n",
        "print(arr[0,1,2])"
      ],
      "metadata": {
        "colab": {
          "base_uri": "https://localhost:8080/"
        },
        "id": "2aQv3K_ReTrj",
        "outputId": "7fb05720-da22-4048-92ce-60e2f8920944"
      },
      "execution_count": 26,
      "outputs": [
        {
          "output_type": "stream",
          "name": "stdout",
          "text": [
            "6\n"
          ]
        }
      ]
    },
    {
      "cell_type": "code",
      "source": [
        "# Accessing element of an array through negative index\n",
        "\n",
        "arr = np.array([[1,2,3,4,5],[6,7,8,9,10]])\n",
        "print(arr[1,-1])"
      ],
      "metadata": {
        "colab": {
          "base_uri": "https://localhost:8080/"
        },
        "id": "6MIjSsQeeqjM",
        "outputId": "634af8b2-3143-4d01-d55a-87b5d57826ee"
      },
      "execution_count": 27,
      "outputs": [
        {
          "output_type": "stream",
          "name": "stdout",
          "text": [
            "10\n"
          ]
        }
      ]
    },
    {
      "cell_type": "code",
      "source": [],
      "metadata": {
        "id": "Eb4A_w7De8LX"
      },
      "execution_count": null,
      "outputs": []
    }
  ]
}